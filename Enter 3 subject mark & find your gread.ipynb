{
 "cells": [
  {
   "cell_type": "code",
   "execution_count": 3,
   "id": "496b80c7",
   "metadata": {},
   "outputs": [
    {
     "name": "stdout",
     "output_type": "stream",
     "text": [
      "Enter`3 subject marks:-\n",
      "Enter 1st subject mark:-34\n",
      "Enter 2nd subject mark:-23\n",
      "Enter 3rd subject mark:-12\n",
      "You are failed\n"
     ]
    }
   ],
   "source": [
    "print(\"Enter`3 subject marks:-\")\n",
    "m1= int(input(\"Enter 1st subject mark:-\"))3.\n",
    "m2= int(input(\"Enter 2nd subject mark:-\"))\n",
    "m3= int(input(\"Enter 3rd subject mark:-\"))\n",
    "total=m1+m2+m3\n",
    "avg=total/3\n",
    "if(avg>=50) and (avg<55):\n",
    "    print(\"The gread is D\")\n",
    "elif(avg>=55) and (avg<65):\n",
    "          print(\"Your gread is C\")\n",
    "elif(avg>=65) and (avg<75):\n",
    "          print(\"Your gread is B\")\n",
    "elif(avg>=75) and (avg<85):\n",
    "          print(\"Your gread is A\")\n",
    "elif(avg>=85):\n",
    "          print(\"Your gread is O\")\n",
    "else:\n",
    "          print(\"You are failed\")"
   ]
  },
  {
   "cell_type": "code",
   "execution_count": null,
   "id": "5bd01f48",
   "metadata": {},
   "outputs": [],
   "source": []
  }
 ],
 "metadata": {
  "kernelspec": {
   "display_name": "Python 3 (ipykernel)",
   "language": "python",
   "name": "python3"
  },
  "language_info": {
   "codemirror_mode": {
    "name": "ipython",
    "version": 3
   },
   "file_extension": ".py",
   "mimetype": "text/x-python",
   "name": "python",
   "nbconvert_exporter": "python",
   "pygments_lexer": "ipython3",
   "version": "3.9.7"
  }
 },
 "nbformat": 4,
 "nbformat_minor": 5
}
